{
 "cells": [
  {
   "cell_type": "code",
   "execution_count": 4,
   "id": "790b090b-96b5-4581-8d22-8a13690a186b",
   "metadata": {},
   "outputs": [
    {
     "name": "stdout",
     "output_type": "stream",
     "text": [
      "Accuracy: 0.7765363\n",
      "Classification Report:\n",
      "              precision    recall  f1-score   support\n",
      "\n",
      "           0       0.82      0.79      0.81       105\n",
      "           1       0.72      0.76      0.74        74\n",
      "\n",
      "    accuracy                           0.78       179\n",
      "   macro avg       0.77      0.77      0.77       179\n",
      "weighted avg       0.78      0.78      0.78       179\n",
      "\n"
     ]
    }
   ],
   "source": [
    "# Import necessary libraries\n",
    "import pandas as pd\n",
    "from sklearn.model_selection import train_test_split\n",
    "from sklearn.tree import DecisionTreeClassifier\n",
    "from sklearn.metrics import accuracy_score, classification_report\n",
    "from sklearn import tree\n",
    "from sklearn.impute import SimpleImputer\n",
    "\n",
    "# Load the Titanic dataset\n",
    "url = \"https://raw.githubusercontent.com/datasciencedojo/datasets/master/titanic.csv\"\n",
    "titanic_data = pd.read_csv(url)\n",
    "\n",
    "# Preprocess the data\n",
    "# You might want to handle missing values, encode categorical variables, etc.\n",
    "# For simplicity, let's drop some irrelevant columns for this example.\n",
    "titanic_data = titanic_data.drop(['Name', 'Ticket', 'Cabin','PassengerId'], axis=1)\n",
    "\n",
    "# Convert categorical variables to numerical using one-hot encoding\n",
    "titanic_data = pd.get_dummies(titanic_data, columns=['Sex'])\n",
    "titanic_data = pd.get_dummies(titanic_data, columns = ['Embarked'])\n",
    "# Handle missing values\n",
    "imputer = SimpleImputer(strategy='median')\n",
    "titanic_data['Age'] = imputer.fit_transform(titanic_data[['Age']])\n",
    "titanic_data['Fare'] = imputer.fit_transform(titanic_data[['Fare']])\n",
    "\n",
    "# Split the data into features and target variable\n",
    "X = titanic_data.drop(\"Survived\", axis=1)\n",
    "y = titanic_data[\"Survived\"]\n",
    "\n",
    "# Split the data into training and testing sets\n",
    "X_train, X_test, y_train, y_test = train_test_split(X, y, test_size=0.2, random_state=42)\n",
    "\n",
    "# Create a decision tree classifier\n",
    "clf = DecisionTreeClassifier(random_state=42)\n",
    "\n",
    "# Train the classifier\n",
    "clf.fit(X_train, y_train)\n",
    "\n",
    "# Make predictions on the test set\n",
    "y_pred = clf.predict(X_test)\n",
    "\n",
    "# Evaluate the model\n",
    "accuracy = accuracy_score(y_test, y_pred)\n",
    "print(f\"Accuracy: {accuracy:.7f}\")\n",
    "\n",
    "# Display classification report\n",
    "print(\"Classification Report:\")\n",
    "print(classification_report(y_test, y_pred))"
   ]
  },
  {
   "cell_type": "code",
   "execution_count": null,
   "id": "60fd942c-c5a3-4265-b6fc-456043d4762e",
   "metadata": {},
   "outputs": [],
   "source": []
  }
 ],
 "metadata": {
  "kernelspec": {
   "display_name": "Python 3 (ipykernel)",
   "language": "python",
   "name": "python3"
  },
  "language_info": {
   "codemirror_mode": {
    "name": "ipython",
    "version": 3
   },
   "file_extension": ".py",
   "mimetype": "text/x-python",
   "name": "python",
   "nbconvert_exporter": "python",
   "pygments_lexer": "ipython3",
   "version": "3.10.9"
  }
 },
 "nbformat": 4,
 "nbformat_minor": 5
}
